{
 "cells": [
  {
   "cell_type": "markdown",
   "metadata": {},
   "source": [
    "# Online OCR using Python\n",
    "https://github.com/SurajGuptaRavi"
   ]
  },
  {
   "cell_type": "code",
   "execution_count": null,
   "metadata": {},
   "outputs": [],
   "source": [
    "import cv2\n",
    "import numpy as np\n",
    "import requests\n",
    "import io\n",
    "from PIL import Image\n",
    "\n",
    "#Enter only .jpg file path\n",
    "im1 = Image.open(input(\"Enter the image path\"))\n",
    "im1.save('test.jpg')\n",
    "path_image=r'test.jpg'\n",
    "img =cv2.imread(path_image)\n",
    "\n",
    "url_api = 'https://api.ocr.space/parse/image'\n",
    "_ , compressedimage = cv2.imencode(\".jpg\",img,[1,90])#compression\n",
    "file_bytes = io.BytesIO(compressedimage)#converting to bytes\n",
    "\n",
    "#sending the request to the url_api \n",
    "api_token = \"Enter your Api here\"#register on http://ocr.space/ for free API\n",
    "response=requests.post(url_api,files={path_image:file_bytes},data={\"apikey\":api_token})\n",
    "\n",
    "font = cv2.FONT_HERSHEY_SIMPLEX\n",
    "\n",
    "\n",
    "cv2.putText(img,\"Detected Text:-\\n\"+response.json()['ParsedResults'][0]['ParsedText'],(10,500), font, 1,(255,255,255),2)\n",
    "cv2.imshow('Img',img)\n",
    "\n",
    "print(\"Detected Text are:-\")\n",
    "print(response.json()['ParsedResults'][0]['ParsedText'])\n",
    "cv2.waitKey(0)\n",
    "cv2.destroyAllWindows()"
   ]
  },
  {
   "cell_type": "code",
   "execution_count": null,
   "metadata": {},
   "outputs": [],
   "source": []
  }
 ],
 "metadata": {
  "kernelspec": {
   "display_name": "Python 3",
   "language": "python",
   "name": "python3"
  },
  "language_info": {
   "codemirror_mode": {
    "name": "ipython",
    "version": 3
   },
   "file_extension": ".py",
   "mimetype": "text/x-python",
   "name": "python",
   "nbconvert_exporter": "python",
   "pygments_lexer": "ipython3",
   "version": "3.7.6"
  }
 },
 "nbformat": 4,
 "nbformat_minor": 4
}
